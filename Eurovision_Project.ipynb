{
  "nbformat": 4,
  "nbformat_minor": 0,
  "metadata": {
    "colab": {
      "name": "Eurovision Project",
      "provenance": [],
      "collapsed_sections": []
    },
    "kernelspec": {
      "name": "python3",
      "display_name": "Python 3"
    }
  },
  "cells": [
    {
      "cell_type": "markdown",
      "metadata": {
        "id": "URbROOrDyu1A"
      },
      "source": [
        "The purpose of this notebook is to calm my curiosity (and an ongoing argument) about the popularity of songs performed on English among the long story of the Eurovision Song Contest.\n",
        "\n",
        "The dataset used is [*Eurovision Song Lyrics*](https://www.kaggle.com/minitree/eurovision-song-lyrics) by Kaggle user minitree."
      ]
    },
    {
      "cell_type": "code",
      "metadata": {
        "id": "7jymlYKQHmlP",
        "outputId": "7873e012-c636-45ca-ddac-9d8d74b8ed0e",
        "colab": {
          "base_uri": "https://localhost:8080/",
          "height": 51
        }
      },
      "source": [
        "import pandas as pd\n",
        "import numpy as np\n",
        "import matplotlib.pyplot as plt\n",
        "import seaborn as sns\n",
        "import json"
      ],
      "execution_count": 1,
      "outputs": [
        {
          "output_type": "stream",
          "text": [
            "/usr/local/lib/python3.6/dist-packages/statsmodels/tools/_testing.py:19: FutureWarning: pandas.util.testing is deprecated. Use the functions in the public API at pandas.testing instead.\n",
            "  import pandas.util.testing as tm\n"
          ],
          "name": "stderr"
        }
      ]
    },
    {
      "cell_type": "code",
      "metadata": {
        "id": "ogOajeb0Hwf5",
        "outputId": "637768ae-0cbb-4eb9-db76-e1945453975a",
        "colab": {
          "base_uri": "https://localhost:8080/",
          "height": 529
        }
      },
      "source": [
        "#The dataset needs to be downloaded and the correct path indicated here for this notebook to work.\n",
        "with open('/content/eurovision-lyrics.json') as json_file:\n",
        "  jsonstring = json.load(json_file)\n",
        "df = pd.DataFrame.from_dict(jsonstring,orient=\"index\")\n",
        "df.head(10)\n",
        "\n"
      ],
      "execution_count": 2,
      "outputs": [
        {
          "output_type": "execute_result",
          "data": {
            "text/html": [
              "<div>\n",
              "<style scoped>\n",
              "    .dataframe tbody tr th:only-of-type {\n",
              "        vertical-align: middle;\n",
              "    }\n",
              "\n",
              "    .dataframe tbody tr th {\n",
              "        vertical-align: top;\n",
              "    }\n",
              "\n",
              "    .dataframe thead th {\n",
              "        text-align: right;\n",
              "    }\n",
              "</style>\n",
              "<table border=\"1\" class=\"dataframe\">\n",
              "  <thead>\n",
              "    <tr style=\"text-align: right;\">\n",
              "      <th></th>\n",
              "      <th>#</th>\n",
              "      <th>Country</th>\n",
              "      <th>#.1</th>\n",
              "      <th>Artist</th>\n",
              "      <th>Song</th>\n",
              "      <th>Language</th>\n",
              "      <th>Pl.</th>\n",
              "      <th>Sc.</th>\n",
              "      <th>Eurovision_Number</th>\n",
              "      <th>Year</th>\n",
              "      <th>Host_Country</th>\n",
              "      <th>Host_City</th>\n",
              "      <th>Lyrics</th>\n",
              "      <th>Lyrics translation</th>\n",
              "    </tr>\n",
              "  </thead>\n",
              "  <tbody>\n",
              "    <tr>\n",
              "      <th>0</th>\n",
              "      <td>1</td>\n",
              "      <td>Netherlands</td>\n",
              "      <td>1</td>\n",
              "      <td>Jetty Paerl</td>\n",
              "      <td>De vogels van Holland</td>\n",
              "      <td>Dutch</td>\n",
              "      <td>-</td>\n",
              "      <td>-</td>\n",
              "      <td>1</td>\n",
              "      <td>1956</td>\n",
              "      <td>Switzerland</td>\n",
              "      <td>Lugano</td>\n",
              "      <td>De vogels van Holland zijn zo muzikaal\\nZe ler...</td>\n",
              "      <td>The birds of Holland are so musical\\nThey alre...</td>\n",
              "    </tr>\n",
              "    <tr>\n",
              "      <th>1</th>\n",
              "      <td>2</td>\n",
              "      <td>Switzerland</td>\n",
              "      <td>1</td>\n",
              "      <td>Lys Assia</td>\n",
              "      <td>Das alte Karussell</td>\n",
              "      <td>German</td>\n",
              "      <td>-</td>\n",
              "      <td>-</td>\n",
              "      <td>1</td>\n",
              "      <td>1956</td>\n",
              "      <td>Switzerland</td>\n",
              "      <td>Lugano</td>\n",
              "      <td>Das alte Karussell\\nDas geht nicht mehr so sch...</td>\n",
              "      <td>The old carousel\\nIt doesn't go as fast anymor...</td>\n",
              "    </tr>\n",
              "    <tr>\n",
              "      <th>2</th>\n",
              "      <td>3</td>\n",
              "      <td>Belgium</td>\n",
              "      <td>1</td>\n",
              "      <td>Fud Leclerc</td>\n",
              "      <td>Messieurs les noyés de la Seine</td>\n",
              "      <td>French</td>\n",
              "      <td>-</td>\n",
              "      <td>-</td>\n",
              "      <td>1</td>\n",
              "      <td>1956</td>\n",
              "      <td>Switzerland</td>\n",
              "      <td>Lugano</td>\n",
              "      <td>Messieurs les noyés de la Seine\\nOuvrez-moi le...</td>\n",
              "      <td>Ye drowned men of the river Seine (1)\\nOpen th...</td>\n",
              "    </tr>\n",
              "    <tr>\n",
              "      <th>3</th>\n",
              "      <td>4</td>\n",
              "      <td>Germany (West)</td>\n",
              "      <td>1</td>\n",
              "      <td>Walter Andreas Schwarz</td>\n",
              "      <td>Im Wartesaal zum großen Glück</td>\n",
              "      <td>German</td>\n",
              "      <td>-</td>\n",
              "      <td>-</td>\n",
              "      <td>1</td>\n",
              "      <td>1956</td>\n",
              "      <td>Switzerland</td>\n",
              "      <td>Lugano</td>\n",
              "      <td>Es gibt einen Hafen\\nDa fährt kaum ein Schiff\\...</td>\n",
              "      <td>There is a harbour\\nWhere hardly any ship leav...</td>\n",
              "    </tr>\n",
              "    <tr>\n",
              "      <th>4</th>\n",
              "      <td>5</td>\n",
              "      <td>France</td>\n",
              "      <td>1</td>\n",
              "      <td>Mathé Altéry</td>\n",
              "      <td>Le temps perdu</td>\n",
              "      <td>French</td>\n",
              "      <td>-</td>\n",
              "      <td>-</td>\n",
              "      <td>1</td>\n",
              "      <td>1956</td>\n",
              "      <td>Switzerland</td>\n",
              "      <td>Lugano</td>\n",
              "      <td>Chante, carillon\\nLe chant du temps perdu\\nCha...</td>\n",
              "      <td>Sing, carillon\\nThe song of lost time\\nSing yo...</td>\n",
              "    </tr>\n",
              "    <tr>\n",
              "      <th>5</th>\n",
              "      <td>6</td>\n",
              "      <td>Luxembourg</td>\n",
              "      <td>1</td>\n",
              "      <td>Michèle Arnaud</td>\n",
              "      <td>Ne crois pas</td>\n",
              "      <td>French</td>\n",
              "      <td>-</td>\n",
              "      <td>-</td>\n",
              "      <td>1</td>\n",
              "      <td>1956</td>\n",
              "      <td>Switzerland</td>\n",
              "      <td>Lugano</td>\n",
              "      <td>Si on te dit que t'a une belle gueule\\nY a pas...</td>\n",
              "      <td>If they told you that you have a good look\\nTh...</td>\n",
              "    </tr>\n",
              "    <tr>\n",
              "      <th>6</th>\n",
              "      <td>7</td>\n",
              "      <td>Italy</td>\n",
              "      <td>1</td>\n",
              "      <td>Franca Raimondi</td>\n",
              "      <td>Aprite le finestre</td>\n",
              "      <td>Italian</td>\n",
              "      <td>-</td>\n",
              "      <td>-</td>\n",
              "      <td>1</td>\n",
              "      <td>1956</td>\n",
              "      <td>Switzerland</td>\n",
              "      <td>Lugano</td>\n",
              "      <td>La prima rosa rossa è già sbocciata\\nE nascon ...</td>\n",
              "      <td>The first red rose has already blossomed\\nAnd ...</td>\n",
              "    </tr>\n",
              "    <tr>\n",
              "      <th>7</th>\n",
              "      <td>8</td>\n",
              "      <td>Netherlands</td>\n",
              "      <td>-</td>\n",
              "      <td>Corry Brokken</td>\n",
              "      <td>Voorgoed voorbij</td>\n",
              "      <td>Dutch</td>\n",
              "      <td>-</td>\n",
              "      <td>-</td>\n",
              "      <td>1</td>\n",
              "      <td>1956</td>\n",
              "      <td>Switzerland</td>\n",
              "      <td>Lugano</td>\n",
              "      <td>Voorgoed voorbij\\nNu zijn we nooit meer samen\\...</td>\n",
              "      <td>Over for good\\nNow we'll never be together aga...</td>\n",
              "    </tr>\n",
              "    <tr>\n",
              "      <th>8</th>\n",
              "      <td>9</td>\n",
              "      <td>Switzerland</td>\n",
              "      <td>-</td>\n",
              "      <td>Lys Assia (2)</td>\n",
              "      <td>Refrain</td>\n",
              "      <td>French</td>\n",
              "      <td>1</td>\n",
              "      <td>-</td>\n",
              "      <td>1</td>\n",
              "      <td>1956</td>\n",
              "      <td>Switzerland</td>\n",
              "      <td>Lugano</td>\n",
              "      <td>[Intro]\\n(Refrain d'amour)\\n\\n[Couplet 1]\\nRef...</td>\n",
              "      <td>Chorus of love, or or or or\\nChorus, color of ...</td>\n",
              "    </tr>\n",
              "    <tr>\n",
              "      <th>9</th>\n",
              "      <td>10</td>\n",
              "      <td>Belgium</td>\n",
              "      <td>-</td>\n",
              "      <td>Mony Marc</td>\n",
              "      <td>Le plus beau jour de ma vie</td>\n",
              "      <td>French</td>\n",
              "      <td>-</td>\n",
              "      <td>-</td>\n",
              "      <td>1</td>\n",
              "      <td>1956</td>\n",
              "      <td>Switzerland</td>\n",
              "      <td>Lugano</td>\n",
              "      <td>Les cloches sonnent\\nTout carillonne\\nLe plus ...</td>\n",
              "      <td>The bells are ringing\\nEverything is heralding...</td>\n",
              "    </tr>\n",
              "  </tbody>\n",
              "</table>\n",
              "</div>"
            ],
            "text/plain": [
              "    #  ...                                 Lyrics translation\n",
              "0   1  ...  The birds of Holland are so musical\\nThey alre...\n",
              "1   2  ...  The old carousel\\nIt doesn't go as fast anymor...\n",
              "2   3  ...  Ye drowned men of the river Seine (1)\\nOpen th...\n",
              "3   4  ...  There is a harbour\\nWhere hardly any ship leav...\n",
              "4   5  ...  Sing, carillon\\nThe song of lost time\\nSing yo...\n",
              "5   6  ...  If they told you that you have a good look\\nTh...\n",
              "6   7  ...  The first red rose has already blossomed\\nAnd ...\n",
              "7   8  ...  Over for good\\nNow we'll never be together aga...\n",
              "8   9  ...  Chorus of love, or or or or\\nChorus, color of ...\n",
              "9  10  ...  The bells are ringing\\nEverything is heralding...\n",
              "\n",
              "[10 rows x 14 columns]"
            ]
          },
          "metadata": {
            "tags": []
          },
          "execution_count": 2
        }
      ]
    },
    {
      "cell_type": "code",
      "metadata": {
        "id": "Dt4c2mCsH-jM",
        "outputId": "6c3a4343-e364-4fa8-edb5-4908512c4914",
        "colab": {
          "base_uri": "https://localhost:8080/",
          "height": 359
        }
      },
      "source": [
        "#Keeping only the columns of interest. \"Pl.\" indicates the final place on the contest.\n",
        "df = df[['Song','Language','Year','Pl.']]\n",
        "df.head(10)"
      ],
      "execution_count": 3,
      "outputs": [
        {
          "output_type": "execute_result",
          "data": {
            "text/html": [
              "<div>\n",
              "<style scoped>\n",
              "    .dataframe tbody tr th:only-of-type {\n",
              "        vertical-align: middle;\n",
              "    }\n",
              "\n",
              "    .dataframe tbody tr th {\n",
              "        vertical-align: top;\n",
              "    }\n",
              "\n",
              "    .dataframe thead th {\n",
              "        text-align: right;\n",
              "    }\n",
              "</style>\n",
              "<table border=\"1\" class=\"dataframe\">\n",
              "  <thead>\n",
              "    <tr style=\"text-align: right;\">\n",
              "      <th></th>\n",
              "      <th>Song</th>\n",
              "      <th>Language</th>\n",
              "      <th>Year</th>\n",
              "      <th>Pl.</th>\n",
              "    </tr>\n",
              "  </thead>\n",
              "  <tbody>\n",
              "    <tr>\n",
              "      <th>0</th>\n",
              "      <td>De vogels van Holland</td>\n",
              "      <td>Dutch</td>\n",
              "      <td>1956</td>\n",
              "      <td>-</td>\n",
              "    </tr>\n",
              "    <tr>\n",
              "      <th>1</th>\n",
              "      <td>Das alte Karussell</td>\n",
              "      <td>German</td>\n",
              "      <td>1956</td>\n",
              "      <td>-</td>\n",
              "    </tr>\n",
              "    <tr>\n",
              "      <th>2</th>\n",
              "      <td>Messieurs les noyés de la Seine</td>\n",
              "      <td>French</td>\n",
              "      <td>1956</td>\n",
              "      <td>-</td>\n",
              "    </tr>\n",
              "    <tr>\n",
              "      <th>3</th>\n",
              "      <td>Im Wartesaal zum großen Glück</td>\n",
              "      <td>German</td>\n",
              "      <td>1956</td>\n",
              "      <td>-</td>\n",
              "    </tr>\n",
              "    <tr>\n",
              "      <th>4</th>\n",
              "      <td>Le temps perdu</td>\n",
              "      <td>French</td>\n",
              "      <td>1956</td>\n",
              "      <td>-</td>\n",
              "    </tr>\n",
              "    <tr>\n",
              "      <th>5</th>\n",
              "      <td>Ne crois pas</td>\n",
              "      <td>French</td>\n",
              "      <td>1956</td>\n",
              "      <td>-</td>\n",
              "    </tr>\n",
              "    <tr>\n",
              "      <th>6</th>\n",
              "      <td>Aprite le finestre</td>\n",
              "      <td>Italian</td>\n",
              "      <td>1956</td>\n",
              "      <td>-</td>\n",
              "    </tr>\n",
              "    <tr>\n",
              "      <th>7</th>\n",
              "      <td>Voorgoed voorbij</td>\n",
              "      <td>Dutch</td>\n",
              "      <td>1956</td>\n",
              "      <td>-</td>\n",
              "    </tr>\n",
              "    <tr>\n",
              "      <th>8</th>\n",
              "      <td>Refrain</td>\n",
              "      <td>French</td>\n",
              "      <td>1956</td>\n",
              "      <td>1</td>\n",
              "    </tr>\n",
              "    <tr>\n",
              "      <th>9</th>\n",
              "      <td>Le plus beau jour de ma vie</td>\n",
              "      <td>French</td>\n",
              "      <td>1956</td>\n",
              "      <td>-</td>\n",
              "    </tr>\n",
              "  </tbody>\n",
              "</table>\n",
              "</div>"
            ],
            "text/plain": [
              "                              Song Language  Year Pl.\n",
              "0            De vogels van Holland    Dutch  1956   -\n",
              "1               Das alte Karussell   German  1956   -\n",
              "2  Messieurs les noyés de la Seine   French  1956   -\n",
              "3    Im Wartesaal zum großen Glück   German  1956   -\n",
              "4                   Le temps perdu   French  1956   -\n",
              "5                     Ne crois pas   French  1956   -\n",
              "6               Aprite le finestre  Italian  1956   -\n",
              "7                 Voorgoed voorbij    Dutch  1956   -\n",
              "8                          Refrain   French  1956   1\n",
              "9      Le plus beau jour de ma vie   French  1956   -"
            ]
          },
          "metadata": {
            "tags": []
          },
          "execution_count": 3
        }
      ]
    },
    {
      "cell_type": "code",
      "metadata": {
        "id": "0t6m0864I96-",
        "outputId": "32b5d3c3-06c7-4d20-8fde-a0a3cbcb364d",
        "colab": {
          "base_uri": "https://localhost:8080/",
          "height": 102
        }
      },
      "source": [
        "df = df[df.Language == \"English\"]\n",
        "df.count()"
      ],
      "execution_count": 4,
      "outputs": [
        {
          "output_type": "execute_result",
          "data": {
            "text/plain": [
              "Song        562\n",
              "Language    562\n",
              "Year        562\n",
              "Pl.         562\n",
              "dtype: int64"
            ]
          },
          "metadata": {
            "tags": []
          },
          "execution_count": 4
        }
      ]
    },
    {
      "cell_type": "code",
      "metadata": {
        "id": "bG9sGMfeLrtz",
        "outputId": "f3f5abb1-da05-4159-f264-bd56aee227b8",
        "colab": {
          "base_uri": "https://localhost:8080/",
          "height": 450
        }
      },
      "source": [
        "df.groupby('Year').count()"
      ],
      "execution_count": 5,
      "outputs": [
        {
          "output_type": "execute_result",
          "data": {
            "text/html": [
              "<div>\n",
              "<style scoped>\n",
              "    .dataframe tbody tr th:only-of-type {\n",
              "        vertical-align: middle;\n",
              "    }\n",
              "\n",
              "    .dataframe tbody tr th {\n",
              "        vertical-align: top;\n",
              "    }\n",
              "\n",
              "    .dataframe thead th {\n",
              "        text-align: right;\n",
              "    }\n",
              "</style>\n",
              "<table border=\"1\" class=\"dataframe\">\n",
              "  <thead>\n",
              "    <tr style=\"text-align: right;\">\n",
              "      <th></th>\n",
              "      <th>Song</th>\n",
              "      <th>Language</th>\n",
              "      <th>Pl.</th>\n",
              "    </tr>\n",
              "    <tr>\n",
              "      <th>Year</th>\n",
              "      <th></th>\n",
              "      <th></th>\n",
              "      <th></th>\n",
              "    </tr>\n",
              "  </thead>\n",
              "  <tbody>\n",
              "    <tr>\n",
              "      <th>1957</th>\n",
              "      <td>1</td>\n",
              "      <td>1</td>\n",
              "      <td>1</td>\n",
              "    </tr>\n",
              "    <tr>\n",
              "      <th>1959</th>\n",
              "      <td>1</td>\n",
              "      <td>1</td>\n",
              "      <td>1</td>\n",
              "    </tr>\n",
              "    <tr>\n",
              "      <th>1960</th>\n",
              "      <td>1</td>\n",
              "      <td>1</td>\n",
              "      <td>1</td>\n",
              "    </tr>\n",
              "    <tr>\n",
              "      <th>1961</th>\n",
              "      <td>1</td>\n",
              "      <td>1</td>\n",
              "      <td>1</td>\n",
              "    </tr>\n",
              "    <tr>\n",
              "      <th>1962</th>\n",
              "      <td>1</td>\n",
              "      <td>1</td>\n",
              "      <td>1</td>\n",
              "    </tr>\n",
              "    <tr>\n",
              "      <th>...</th>\n",
              "      <td>...</td>\n",
              "      <td>...</td>\n",
              "      <td>...</td>\n",
              "    </tr>\n",
              "    <tr>\n",
              "      <th>2015</th>\n",
              "      <td>32</td>\n",
              "      <td>32</td>\n",
              "      <td>32</td>\n",
              "    </tr>\n",
              "    <tr>\n",
              "      <th>2016</th>\n",
              "      <td>33</td>\n",
              "      <td>33</td>\n",
              "      <td>33</td>\n",
              "    </tr>\n",
              "    <tr>\n",
              "      <th>2017</th>\n",
              "      <td>35</td>\n",
              "      <td>35</td>\n",
              "      <td>35</td>\n",
              "    </tr>\n",
              "    <tr>\n",
              "      <th>2018</th>\n",
              "      <td>26</td>\n",
              "      <td>26</td>\n",
              "      <td>26</td>\n",
              "    </tr>\n",
              "    <tr>\n",
              "      <th>2019</th>\n",
              "      <td>26</td>\n",
              "      <td>26</td>\n",
              "      <td>26</td>\n",
              "    </tr>\n",
              "  </tbody>\n",
              "</table>\n",
              "<p>62 rows × 3 columns</p>\n",
              "</div>"
            ],
            "text/plain": [
              "      Song  Language  Pl.\n",
              "Year                     \n",
              "1957     1         1    1\n",
              "1959     1         1    1\n",
              "1960     1         1    1\n",
              "1961     1         1    1\n",
              "1962     1         1    1\n",
              "...    ...       ...  ...\n",
              "2015    32        32   32\n",
              "2016    33        33   33\n",
              "2017    35        35   35\n",
              "2018    26        26   26\n",
              "2019    26        26   26\n",
              "\n",
              "[62 rows x 3 columns]"
            ]
          },
          "metadata": {
            "tags": []
          },
          "execution_count": 5
        }
      ]
    },
    {
      "cell_type": "code",
      "metadata": {
        "id": "YAu1nC_xQXGu",
        "outputId": "02da7946-e9d8-46bc-b965-6754335fa0bb",
        "colab": {
          "base_uri": "https://localhost:8080/",
          "height": 359
        }
      },
      "source": [
        "#We separate the english songs that scored first place on the festival for the sake of extra data.\n",
        "winners = df[df['Pl.'] == '1']\n",
        "winners.head(10)"
      ],
      "execution_count": 6,
      "outputs": [
        {
          "output_type": "execute_result",
          "data": {
            "text/html": [
              "<div>\n",
              "<style scoped>\n",
              "    .dataframe tbody tr th:only-of-type {\n",
              "        vertical-align: middle;\n",
              "    }\n",
              "\n",
              "    .dataframe tbody tr th {\n",
              "        vertical-align: top;\n",
              "    }\n",
              "\n",
              "    .dataframe thead th {\n",
              "        text-align: right;\n",
              "    }\n",
              "</style>\n",
              "<table border=\"1\" class=\"dataframe\">\n",
              "  <thead>\n",
              "    <tr style=\"text-align: right;\">\n",
              "      <th></th>\n",
              "      <th>Song</th>\n",
              "      <th>Language</th>\n",
              "      <th>Year</th>\n",
              "      <th>Pl.</th>\n",
              "    </tr>\n",
              "  </thead>\n",
              "  <tbody>\n",
              "    <tr>\n",
              "      <th>168</th>\n",
              "      <td>Puppet on a String</td>\n",
              "      <td>English</td>\n",
              "      <td>1967</td>\n",
              "      <td>1</td>\n",
              "    </tr>\n",
              "    <tr>\n",
              "      <th>198</th>\n",
              "      <td>Boom Bang-a-Bang</td>\n",
              "      <td>English</td>\n",
              "      <td>1969</td>\n",
              "      <td>1</td>\n",
              "    </tr>\n",
              "    <tr>\n",
              "      <th>219</th>\n",
              "      <td>All Kinds of Everything</td>\n",
              "      <td>English</td>\n",
              "      <td>1970</td>\n",
              "      <td>1</td>\n",
              "    </tr>\n",
              "    <tr>\n",
              "      <th>280</th>\n",
              "      <td>Waterloo</td>\n",
              "      <td>English</td>\n",
              "      <td>1974</td>\n",
              "      <td>1</td>\n",
              "    </tr>\n",
              "    <tr>\n",
              "      <th>290</th>\n",
              "      <td>Ding-a-Dong</td>\n",
              "      <td>English</td>\n",
              "      <td>1975</td>\n",
              "      <td>1</td>\n",
              "    </tr>\n",
              "    <tr>\n",
              "      <th>309</th>\n",
              "      <td>Save Your Kisses for Me</td>\n",
              "      <td>English</td>\n",
              "      <td>1976</td>\n",
              "      <td>1</td>\n",
              "    </tr>\n",
              "    <tr>\n",
              "      <th>400</th>\n",
              "      <td>What's Another Year</td>\n",
              "      <td>English</td>\n",
              "      <td>1980</td>\n",
              "      <td>1</td>\n",
              "    </tr>\n",
              "    <tr>\n",
              "      <th>416</th>\n",
              "      <td>Making Your Mind Up</td>\n",
              "      <td>English</td>\n",
              "      <td>1981</td>\n",
              "      <td>1</td>\n",
              "    </tr>\n",
              "    <tr>\n",
              "      <th>538</th>\n",
              "      <td>Hold Me Now</td>\n",
              "      <td>English</td>\n",
              "      <td>1987</td>\n",
              "      <td>1</td>\n",
              "    </tr>\n",
              "    <tr>\n",
              "      <th>644</th>\n",
              "      <td>Why Me?</td>\n",
              "      <td>English</td>\n",
              "      <td>1992</td>\n",
              "      <td>1</td>\n",
              "    </tr>\n",
              "  </tbody>\n",
              "</table>\n",
              "</div>"
            ],
            "text/plain": [
              "                        Song Language  Year Pl.\n",
              "168       Puppet on a String  English  1967   1\n",
              "198         Boom Bang-a-Bang  English  1969   1\n",
              "219  All Kinds of Everything  English  1970   1\n",
              "280                 Waterloo  English  1974   1\n",
              "290              Ding-a-Dong  English  1975   1\n",
              "309  Save Your Kisses for Me  English  1976   1\n",
              "400      What's Another Year  English  1980   1\n",
              "416      Making Your Mind Up  English  1981   1\n",
              "538              Hold Me Now  English  1987   1\n",
              "644                  Why Me?  English  1992   1"
            ]
          },
          "metadata": {
            "tags": []
          },
          "execution_count": 6
        }
      ]
    },
    {
      "cell_type": "code",
      "metadata": {
        "id": "CFg-7XdeMOAC",
        "outputId": "08c3e5b5-f29e-4db3-87ab-858491f9600d",
        "colab": {
          "base_uri": "https://localhost:8080/",
          "height": 532
        }
      },
      "source": [
        "plt.figure(figsize=(31,10))\n",
        "plt.plot(df.groupby('Year').count())\n",
        "plt.yticks(np.arange(1,40,1))\n",
        "axes = plt.gca()\n",
        "axes.yaxis.grid()\n",
        "\n",
        "plt.title(\"Nº of songs performed in English in Eurovision.\\nStars and indicated names mark the years where an English song won\")\n",
        "\n",
        "\n",
        "for index, row in winners.iterrows():\n",
        "    d = df[df['Year'] == row['Year']]['Year'].count()\n",
        "    plt.annotate(\"★\",xy=(row['Year'],0),xycoords='data',textcoords='data',ha='center')\n",
        "    plt.annotate(row['Song'],xy=(row['Year'],d),xycoords='data',textcoords='data',ha='center',rotation=90)\n",
        "#plt.savefig(\"eurovision.png\")\n",
        "plt.show()\n"
      ],
      "execution_count": 14,
      "outputs": [
        {
          "output_type": "display_data",
          "data": {
            "image/png": "[encoded data removed]",
            "text/plain": [
              "<Figure size 2232x720 with 1 Axes>"
            ]
          },
          "metadata": {
            "tags": [],
            "needs_background": "light"
          }
        }
      ]
    },
    {
      "cell_type": "markdown",
      "metadata": {
        "id": "UQSbWXFC6HcB"
      },
      "source": [
        "# Nueva sección"
      ]
    },
    {
      "cell_type": "code",
      "metadata": {
        "id": "xCV0DM7eQHOk",
        "outputId": "1e12cb30-30f6-41d4-8aee-2c096608b128",
        "colab": {
          "base_uri": "https://localhost:8080/",
          "height": 34
        }
      },
      "source": [
        ""
      ],
      "execution_count": 12,
      "outputs": [
        {
          "output_type": "display_data",
          "data": {
            "text/plain": [
              "<Figure size 432x288 with 0 Axes>"
            ]
          },
          "metadata": {
            "tags": []
          }
        }
      ]
    },
    {
      "cell_type": "code",
      "metadata": {
        "id": "Zu5oaDx51HkP"
      },
      "source": [
        ""
      ],
      "execution_count": null,
      "outputs": []
    }
  ]
}